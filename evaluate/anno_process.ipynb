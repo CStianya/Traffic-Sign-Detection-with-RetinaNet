{
 "cells": [
  {
   "cell_type": "code",
   "execution_count": 2,
   "metadata": {
    "slideshow": {
     "slide_type": "-"
    }
   },
   "outputs": [],
   "source": [
    "import numpy  as no\n",
    "import os\n",
    "import json"
   ]
  },
  {
   "cell_type": "code",
   "execution_count": 6,
   "metadata": {},
   "outputs": [],
   "source": [
    "group_path = 'group4'\n",
    "gt_path = os.path.join('./data_origin/newgt', group_path)"
   ]
  },
  {
   "cell_type": "code",
   "execution_count": 7,
   "metadata": {},
   "outputs": [],
   "source": [
    "annos={}\n",
    "annos['imgs']={}\n",
    "\n",
    "for file in os.listdir(gt_path):\n",
    "    imgid = file.split('.')[0]\n",
    "    file_name = imgid + '.jpg'\n",
    "    path = group_path + '/' + file_name\n",
    "    annos['imgs'][imgid] = {}\n",
    "    annos['imgs'][imgid]['id'] = imgid\n",
    "    annos['imgs'][imgid]['path'] = path\n",
    "    annos['imgs'][imgid]['objects'] = []\n",
    "    with open(os.path.join(gt_path, file), 'r') as f:\n",
    "        lines = f.readlines()\n",
    "    for line in lines:\n",
    "        line = line.strip().split(' ')\n",
    "        category = line[1][0]\n",
    "\n",
    "        bbox={}\n",
    "        bbox['xmin'] = float(line[2])\n",
    "        bbox['ymin'] = float(line[3])\n",
    "        bbox['xmax'] = float(line[4])\n",
    "        bbox['ymax'] = float(line[5])\n",
    "\n",
    "        annos['imgs'][imgid]['objects'].append({'bbox':bbox, 'category':category})\n",
    "#         print(line)"
   ]
  },
  {
   "cell_type": "code",
   "execution_count": 8,
   "metadata": {},
   "outputs": [],
   "source": [
    "output_path = './data_cleared/annos/annos_' + group_path + '.json'\n",
    "with open(output_path, 'w') as f:\n",
    "    json.dump(annos, f)\n",
    "    f.close()"
   ]
  },
  {
   "cell_type": "markdown",
   "metadata": {},
   "source": [
    "# Resize\n",
    "将annotation的检测框resize到512*512"
   ]
  },
  {
   "cell_type": "code",
   "execution_count": null,
   "metadata": {},
   "outputs": [],
   "source": [
    "annos={}\n",
    "annos['imgs']={}\n",
    "\n",
    "for file in os.listdir(gt_path):\n",
    "    imgid = file.split('.')[0]\n",
    "    annos['imgs'][imgid] = {}\n",
    "    annos['imgs'][imgid]['id'] = imgid\n",
    "    annos['imgs'][imgid]['path'] = os.path.join(group_path, file)\n",
    "    annos['imgs'][imgid]['objects'] = []\n",
    "    with open(os.path.join(gt_path, file), 'r') as f:\n",
    "        lines = f.readlines()\n",
    "    for line in lines:\n",
    "        line = line.strip().split(' ')\n",
    "        category = line[1][0]\n",
    "\n",
    "        bbox={}\n",
    "        bbox['xmin'] = float(line[2]) / (1280/512)\n",
    "        bbox['xmax'] = float(line[4]) / (1280/512)\n",
    "        bbox['ymin'] = float(line[3]) / (1024/512)\n",
    "        bbox['ymax'] = float(line[5]) / (1024/512)\n",
    "\n",
    "        annos['imgs'][imgid]['objects'].append({'bbox':bbox, 'category':category})\n",
    "#         print(line)"
   ]
  },
  {
   "cell_type": "code",
   "execution_count": null,
   "metadata": {},
   "outputs": [],
   "source": [
    "output_path = 'annos_' + group_path + '.json'\n",
    "with open(output_path, 'w') as f:\n",
    "    json.dump(annos, f)\n",
    "    f.close()"
   ]
  },
  {
   "cell_type": "markdown",
   "metadata": {},
   "source": [
    "# Generate annotations txt\n",
    "生成rezise后对应的groud_truth的TXT文件"
   ]
  },
  {
   "cell_type": "code",
   "execution_count": 17,
   "metadata": {},
   "outputs": [],
   "source": [
    "input_dir = './data_origin/newgt'\n",
    "output_dir = 'data_resize/newgt'\n",
    "group_path = 'group1'\n",
    "gt_path = os.path.join(input_dir, group_path)\n",
    "output_path = os.path.join(output_dir, group_path)\n",
    "\n",
    "if not os.path.exists(output_path):\n",
    "    os.mkdir(output_path)\n",
    "\n",
    "for file in os.listdir(gt_path):\n",
    "    with open(os.path.join(gt_path, file), 'r') as fin:\n",
    "        lines = fin.readlines()\n",
    "    with open(os.path.join(output_path, file), 'w') as fout:\n",
    "        for line in lines:\n",
    "            line = line.strip().split(' ')\n",
    "            category = line[1][0]\n",
    "            x_min = str(float(line[2]) / (1280/512))\n",
    "            x_max = str(float(line[4]) / (1280/512))\n",
    "            y_min = str(float(line[3]) / (1024/512))\n",
    "            y_max = str(float(line[5]) / (1024/512))\n",
    "            \n",
    "            res = file+' '+category+\" \"+x_min+' '+y_min+' '+x_max+' '+y_max+'\\n'\n",
    "            fout.write(res)"
   ]
  },
  {
   "cell_type": "markdown",
   "metadata": {},
   "source": [
    "# Counter\n",
    "统计annotations下每个类别的数目"
   ]
  },
  {
   "cell_type": "code",
   "execution_count": 13,
   "metadata": {},
   "outputs": [],
   "source": [
    "import os\n",
    "import json\n",
    "from collections import Counter"
   ]
  },
  {
   "cell_type": "code",
   "execution_count": 27,
   "metadata": {},
   "outputs": [],
   "source": [
    "datadir='../data'\n",
    "filedir=os.path.join(datadir, 'annotations.json')\n",
    "annos=json.loads(open(filedir).read())"
   ]
  },
  {
   "cell_type": "code",
   "execution_count": 28,
   "metadata": {},
   "outputs": [],
   "source": [
    "class_counter=Counter()\n",
    "classes=set()\n",
    "for imgid in annos['imgs']:\n",
    "    for boxes in annos['imgs'][imgid]['objects']:\n",
    "        class_counter[boxes['category']]+=1\n",
    "        classes.add(boxes['category'])\n",
    "classes=list(classes)"
   ]
  },
  {
   "cell_type": "code",
   "execution_count": 29,
   "metadata": {},
   "outputs": [
    {
     "name": "stdout",
     "output_type": "stream",
     "text": [
      "Counter({'z': 9990, 'd': 5798, 's': 4313, 'j': 3097, 'l': 683})\n",
      "['z', 's', 'j', 'd', 'l']\n"
     ]
    }
   ],
   "source": [
    "print(class_counter)\n",
    "print(classes)"
   ]
  },
  {
   "cell_type": "markdown",
   "metadata": {},
   "source": [
    "# Merge\n",
    "将两个annotation合并起来"
   ]
  },
  {
   "cell_type": "code",
   "execution_count": 17,
   "metadata": {},
   "outputs": [],
   "source": [
    "import json\n",
    "import os"
   ]
  },
  {
   "cell_type": "code",
   "execution_count": 18,
   "metadata": {},
   "outputs": [],
   "source": [
    "anno1_path = '../data/annotation_aug.json'\n",
    "anno2_path = '../data/annotation_sample.json'"
   ]
  },
  {
   "cell_type": "code",
   "execution_count": 23,
   "metadata": {},
   "outputs": [
    {
     "name": "stdout",
     "output_type": "stream",
     "text": [
      "7832\n",
      "3000\n"
     ]
    }
   ],
   "source": [
    "a1 = json.load(open(anno1_path, 'r'))\n",
    "a2 = json.load(open(anno2_path, 'r'))\n",
    "\n",
    "print(len(a1['imgs']))\n",
    "print(len(a2['imgs']))"
   ]
  },
  {
   "cell_type": "code",
   "execution_count": 24,
   "metadata": {},
   "outputs": [
    {
     "name": "stdout",
     "output_type": "stream",
     "text": [
      "10832\n"
     ]
    }
   ],
   "source": [
    "a2['imgs'].update(a1['imgs'])\n",
    "\n",
    "print(len(a2['imgs']))"
   ]
  },
  {
   "cell_type": "code",
   "execution_count": 26,
   "metadata": {},
   "outputs": [],
   "source": [
    "json.dump(a2, open('../data/annotations.json', 'w'))"
   ]
  },
  {
   "cell_type": "markdown",
   "metadata": {},
   "source": [
    "# Transform\n",
    "将Tsinghua_tencent_100K的标注转换成三类"
   ]
  },
  {
   "cell_type": "code",
   "execution_count": null,
   "metadata": {},
   "outputs": [],
   "source": [
    "import json\n",
    "import os"
   ]
  },
  {
   "cell_type": "code",
   "execution_count": null,
   "metadata": {},
   "outputs": [],
   "source": [
    "datadir='../data'\n",
    "sign_map = {'i':'s', 'p':'z', 'w':'j'}\n",
    "anno_path = 'annotation.json'\n",
    "target_path = 'annotation_3class.json'"
   ]
  },
  {
   "cell_type": "code",
   "execution_count": null,
   "metadata": {},
   "outputs": [],
   "source": [
    "anno_file=os.path.join(datadir, anno_path)\n",
    "annos=json.loads(open(anno_file).read())"
   ]
  },
  {
   "cell_type": "code",
   "execution_count": null,
   "metadata": {},
   "outputs": [],
   "source": [
    "for id in annos['imgs']:\n",
    "    for bi, box in enumerate(annos['imgs'][id]['objects']):\n",
    "        category = box['category']\n",
    "        new_category = sign_map[category[0]]\n",
    "        annos['imgs'][id]['objects'][bi]['category'] = new_category"
   ]
  },
  {
   "cell_type": "code",
   "execution_count": null,
   "metadata": {},
   "outputs": [],
   "source": [
    "with open(os.path.join(datadir, target_path), 'w') as f:\n",
    "    json.dump(annos, f)\n",
    "    f.close()"
   ]
  }
 ],
 "metadata": {
  "kernelspec": {
   "display_name": "Python 3",
   "language": "python",
   "name": "python3"
  },
  "language_info": {
   "codemirror_mode": {
    "name": "ipython",
    "version": 3
   },
   "file_extension": ".py",
   "mimetype": "text/x-python",
   "name": "python",
   "nbconvert_exporter": "python",
   "pygments_lexer": "ipython3",
   "version": "3.7.1"
  },
  "toc-autonumbering": false,
  "toc-showcode": false,
  "toc-showmarkdowntxt": false,
  "toc-showtags": false
 },
 "nbformat": 4,
 "nbformat_minor": 2
}
