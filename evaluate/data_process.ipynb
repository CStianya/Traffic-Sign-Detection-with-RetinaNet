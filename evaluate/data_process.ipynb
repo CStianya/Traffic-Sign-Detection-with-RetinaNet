{
 "cells": [
  {
   "cell_type": "code",
   "execution_count": null,
   "metadata": {},
   "outputs": [],
   "source": [
    "import os\n",
    "import cv2\n",
    "from PIL import Image\n",
    "import numpy as np\n",
    "import json\n",
    "import matplotlib.pyplot as plt"
   ]
  },
  {
   "cell_type": "markdown",
   "metadata": {},
   "source": [
    "# Clear\n",
    "清理不符合要求的数据，并删除对应的图片和ground_truth文件。"
   ]
  },
  {
   "cell_type": "code",
   "execution_count": null,
   "metadata": {},
   "outputs": [],
   "source": [
    "group_path = 'group1'\n",
    "\n",
    "input_path = os.path.join('./data_origin/picwithgt', group_path)\n",
    "target_gt_path = os.path.join('./data_origin/newgt', group_path)\n",
    "target_pic_path = os.path.join('./data_origin/newpic', group_path)"
   ]
  },
  {
   "cell_type": "code",
   "execution_count": null,
   "metadata": {},
   "outputs": [],
   "source": [
    "files = []\n",
    "for file in os.listdir(input_path): \n",
    "    file_name = file.split('-')[1].split('.')[0]\n",
    "    files.append(file_name)\n",
    "\n",
    "print(len(files))"
   ]
  },
  {
   "cell_type": "code",
   "execution_count": null,
   "metadata": {},
   "outputs": [],
   "source": [
    "num = 0\n",
    "for file in os.listdir(target_gt_path): \n",
    "    file_name = file.split('-')[1].split('.')[0]\n",
    "    if file_name not in files:\n",
    "        os.remove(os.path.join(target_gt_path, file))\n",
    "        print(file)\n",
    "        num += 1\n",
    "print(num)"
   ]
  },
  {
   "cell_type": "code",
   "execution_count": null,
   "metadata": {},
   "outputs": [],
   "source": [
    "num = 0\n",
    "for file in os.listdir(target_pic_path): \n",
    "    file_name = file.split('-')[1].split('.')[0]\n",
    "    if file_name not in files:\n",
    "        os.remove(os.path.join(target_pic_path, file))\n",
    "        print(file)\n",
    "        num += 1\n",
    "print(num)"
   ]
  },
  {
   "cell_type": "markdown",
   "metadata": {},
   "source": [
    "# Images process\n",
    "- 原始数据中存在着部分图片的分辨率为1920*1080.\n",
    "- 部分数据虽然分辨率为1280*1024，但是四周存在着黑框，对训练会有影响。\n",
    "- 将原始图片以及检测框的ground_truth缩放到512*512大小"
   ]
  },
  {
   "cell_type": "code",
   "execution_count": null,
   "metadata": {},
   "outputs": [],
   "source": [
    "TARGET_W = 1280\n",
    "TARGET_H = 1024\n",
    "\n",
    "pic_train_path = '../data/train'\n",
    "pic_test_path = '../data/test'\n",
    "\n",
    "annos_path = '../data/annotation_type5.json'\n",
    "annos = json.load(open(annos_path, 'r'))"
   ]
  },
  {
   "cell_type": "code",
   "execution_count": null,
   "metadata": {},
   "outputs": [],
   "source": [
    "def annos_resize(imgid, old_W, old_H, new_W=1280, new_H=1024):\n",
    "    print(imgid, old_W, old_H)\n",
    "    x_ratio = old_W / new_W\n",
    "    y_ratio = old_H / new_H\n",
    "    objects = annos['imgs'][imgid]['objects']\n",
    "    for bid, bboxs in enumerate(objects):\n",
    "        bbox = bboxs['bbox']\n",
    "        print('origin: ', bbox)\n",
    "        bbox['xmin'] = bbox['xmin'] / x_ratio\n",
    "        bbox['xmax'] = bbox['xmax'] / x_ratio\n",
    "        bbox['ymin'] = bbox['ymin'] / y_ratio\n",
    "        bbox['ymax'] = bbox['ymax'] / y_ratio\n",
    "        print('resize: ', bbox)\n",
    "        annos['imgs'][imgid]['objects'][bid]['bbox'] = bbox\n",
    "        "
   ]
  },
  {
   "cell_type": "code",
   "execution_count": null,
   "metadata": {},
   "outputs": [],
   "source": [
    "def data_clear(path):\n",
    "    num = 0\n",
    "    for file in os.listdir(path):\n",
    "        file_path = os.path.join(path, file)\n",
    "#         img = cv2.imread(file_path)\n",
    "        img = Image.open(file_path)\n",
    "        img = np.array(img)\n",
    "        if img.ndim == 2:\n",
    "            print(file)\n",
    "            os.remove(file_path)\n",
    "            num += 1\n",
    "    print('total resize num: ', num)"
   ]
  },
  {
   "cell_type": "code",
   "execution_count": null,
   "metadata": {},
   "outputs": [],
   "source": [
    "data_clear(pic_train_path)"
   ]
  },
  {
   "cell_type": "code",
   "execution_count": null,
   "metadata": {},
   "outputs": [],
   "source": [
    "data_clear(pic_test_path)"
   ]
  },
  {
   "cell_type": "code",
   "execution_count": null,
   "metadata": {},
   "outputs": [],
   "source": [
    "file_path = os.path.join(pic_train_path, 'group4-31_1_2.jpg')\n",
    "# img = cv2.imread(file_path)\n",
    "img = Image.open(file_path)\n",
    "img = np.array(img)\n",
    "\n",
    "print(img.ndim)\n",
    "plt.imshow(img)"
   ]
  },
  {
   "cell_type": "markdown",
   "metadata": {},
   "source": [
    "# Check\n",
    "测试resize之后的检测框框是否正常"
   ]
  },
  {
   "cell_type": "code",
   "execution_count": null,
   "metadata": {},
   "outputs": [],
   "source": [
    "imgid = 'group1-282'\n",
    "img = cv2.imread('./data_tmp/train/'+imgid+'.jpg')\n",
    "\n",
    "objects = annos['imgs'][imgid]['objects']\n",
    "for bid, bboxs in enumerate(objects):\n",
    "    bbox = bboxs['bbox']\n",
    "    category = bboxs['category']\n",
    "    x_min = int(bbox['xmin'])\n",
    "    x_max = int(bbox['xmax'])\n",
    "    y_min = int(bbox['ymin'])\n",
    "    y_max = int(bbox['ymax'])\n",
    "    print(category, x_min, x_max, y_min, y_max)\n",
    "    cv2.rectangle(img, (x_min, y_min), (x_max, y_max), (0, 255, 0), 2)\n",
    "    cv2.putText(img, category, (int(x_min), int(y_min - 6)), cv2.FONT_HERSHEY_COMPLEX_SMALL, 0.8, (255, 255, 255))\n",
    "\n",
    "plt.imshow(img)\n",
    "plt.show()"
   ]
  },
  {
   "cell_type": "markdown",
   "metadata": {},
   "source": [
    "# Sample\n",
    "从Tsinghua_tencent_100K中，每个类别随机选择1000张图片加入训练集中"
   ]
  },
  {
   "cell_type": "code",
   "execution_count": null,
   "metadata": {},
   "outputs": [],
   "source": [
    "import numpy as np\n",
    "import os\n",
    "import json\n",
    "import shutil"
   ]
  },
  {
   "cell_type": "code",
   "execution_count": null,
   "metadata": {},
   "outputs": [],
   "source": [
    "annos_path = '../data/type3/annotation_3class.json'\n",
    "train_path = '../data/type3/train'\n",
    "pic_output_path = '../data/type3/samples'\n",
    "annos_output_path = '../data/type3/annotation_sample.json'"
   ]
  },
  {
   "cell_type": "code",
   "execution_count": null,
   "metadata": {},
   "outputs": [],
   "source": [
    "annos = json.load(open(annos_path, 'r'))\n",
    "if os.path.exists(pic_output_path):\n",
    "    shutil.rmtree(pic_output_path)\n",
    "    os.mkdir(pic_output_path)"
   ]
  },
  {
   "cell_type": "code",
   "execution_count": null,
   "metadata": {},
   "outputs": [],
   "source": [
    "cnt = {'z':0, 'j':0, 's':0}\n",
    "num = 1000\n",
    "\n",
    "annos_new={}\n",
    "annos_new['imgs']={}\n",
    "\n",
    "for file in os.listdir(train_path):\n",
    "    imgid = file.split('.')[0]\n",
    "    objects = annos['imgs'][imgid]['objects']\n",
    "    for bid, bboxs in enumerate(objects):\n",
    "        category = bboxs['category']\n",
    "        if cnt[category] < num:\n",
    "            print(file)\n",
    "            cnt[category] += 1\n",
    "            shutil.copy(train_path+'/'+file, pic_output_path+'/')\n",
    "            annos_new['imgs'][imgid] = annos['imgs'][imgid]\n",
    "            break"
   ]
  },
  {
   "cell_type": "code",
   "execution_count": null,
   "metadata": {},
   "outputs": [],
   "source": [
    "cnt"
   ]
  },
  {
   "cell_type": "code",
   "execution_count": null,
   "metadata": {},
   "outputs": [],
   "source": [
    "with open(annos_output_path, 'w') as f:\n",
    "    json.dump(annos_new, f)\n",
    "    f.close()"
   ]
  },
  {
   "cell_type": "markdown",
   "metadata": {
    "toc-hr-collapsed": true
   },
   "source": [
    "# Data Set Partitioning\n",
    "从数据集中随机划分1000张到测试集"
   ]
  },
  {
   "cell_type": "code",
   "execution_count": null,
   "metadata": {},
   "outputs": [],
   "source": [
    "import os\n",
    "import json\n",
    "import random\n",
    "import shutil"
   ]
  },
  {
   "cell_type": "code",
   "execution_count": null,
   "metadata": {},
   "outputs": [],
   "source": [
    "ipic_dist = {}\n",
    "train_path = '../data/train/'\n",
    "test_path = '../data/test/'\n",
    "data_num = 0\n",
    "test_num = 1000\n",
    "for i, ipic in enumerate(os.listdir(test_path)):\n",
    "    ipic_dist[i] = ipic\n",
    "    data_num += 1\n",
    "#     print(i, ipic)\n",
    "# print(data_num)"
   ]
  },
  {
   "cell_type": "code",
   "execution_count": null,
   "metadata": {},
   "outputs": [],
   "source": [
    "rand_list = []\n",
    "for i in range(test_num):\n",
    "    ran = random.randint(0, data_num-1)\n",
    "    while ran in rand_list:\n",
    "        ran = random.randint(0, data_num-1)\n",
    "    rand_list.append(ran)"
   ]
  },
  {
   "cell_type": "code",
   "execution_count": null,
   "metadata": {},
   "outputs": [],
   "source": [
    "for i in rand_list:\n",
    "    try:\n",
    "        shutil.move(train_path + ipic_dist[i], test_path + ipic_dist[i])\n",
    "        print(ipic_dist[i])\n",
    "    except:\n",
    "        pass"
   ]
  },
  {
   "cell_type": "markdown",
   "metadata": {},
   "source": [
    "# Resize\n",
    "将所有测试集resize到512*512大小"
   ]
  },
  {
   "cell_type": "code",
   "execution_count": 21,
   "metadata": {},
   "outputs": [],
   "source": [
    "import os\n",
    "import cv2\n",
    "import numpy as np\n",
    "from PIL import Image"
   ]
  },
  {
   "cell_type": "code",
   "execution_count": 22,
   "metadata": {},
   "outputs": [],
   "source": [
    "WIDTH = 512\n",
    "HEIGHT = 512\n",
    "\n",
    "test_path = '../data/final_test'\n",
    "output_path = '../data/final_test_resize'\n",
    "\n",
    "assert os.path.exists(test_path)\n",
    "if not os.path.exists(output_path):\n",
    "    os.mkdir(output_path)"
   ]
  },
  {
   "cell_type": "code",
   "execution_count": 24,
   "metadata": {},
   "outputs": [
    {
     "name": "stdout",
     "output_type": "stream",
     "text": [
      "group3-470.png 1174 938\n",
      "group3-494.png 1174 938\n",
      "group3-486.png 1174 938\n",
      "group3-474.png 1174 938\n",
      "group3-479.png 1174 938\n"
     ]
    }
   ],
   "source": [
    "for file in os.listdir(test_path):\n",
    "#     img = Image.open(os.path.join(test_path, file))\n",
    "    img = cv2.imread(os.path.join(test_path, file))\n",
    "    height, width = img.shape[:2]\n",
    "    print(file, width, height)\n",
    "    if width != WIDTH or height != HEIGHT:\n",
    "        img = cv2.resize(img, (WIDTH, HEIGHT))\n",
    "        cv2.imwrite(os.path.join(output_path, file), img)"
   ]
  },
  {
   "cell_type": "code",
   "execution_count": null,
   "metadata": {},
   "outputs": [],
   "source": []
  }
 ],
 "metadata": {
  "kernelspec": {
   "display_name": "Python 3",
   "language": "python",
   "name": "python3"
  },
  "language_info": {
   "codemirror_mode": {
    "name": "ipython",
    "version": 3
   },
   "file_extension": ".py",
   "mimetype": "text/x-python",
   "name": "python",
   "nbconvert_exporter": "python",
   "pygments_lexer": "ipython3",
   "version": "3.7.1"
  }
 },
 "nbformat": 4,
 "nbformat_minor": 2
}
